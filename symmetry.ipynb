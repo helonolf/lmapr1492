{
 "cells": [
  {
   "cell_type": "markdown",
   "id": "efficient-springfield",
   "metadata": {},
   "source": [
    "# Tâche 6\n",
    "Matériau : MgSiN2 (mp-1017514)"
   ]
  },
  {
   "cell_type": "code",
   "execution_count": 92,
   "id": "common-glass",
   "metadata": {},
   "outputs": [],
   "source": [
    "from pymatgen.ext.matproj import MPRester\n",
    "from pymatgen.core.operations import SymmOp\n",
    "from jupyter_jsmol.pymatgen import quick_view\n",
    "\n",
    "with MPRester(\"ThjXyeGFsZiOhMODL\") as m:\n",
    "    structure = m.get_structure_by_material_id(\"mp-1017514\")"
   ]
  },
  {
   "cell_type": "markdown",
   "id": "descending-spider",
   "metadata": {},
   "source": [
    "# 1) Premier élément de symmétrie\n",
    "\n",
    "Le 3ème élément de symmétrie du fichier CIF envoie chaque atome avec comme coordonées (x, y, z)  sur un atome avec les coordonées (-y, x-y, z).\n",
    "\n",
    "Cet élément de symmétrie est une rotation selon l'axe [1,1,1]."
   ]
  },
  {
   "cell_type": "code",
   "execution_count": 89,
   "id": "equal-victory",
   "metadata": {},
   "outputs": [],
   "source": [
    "sym1 = SymmOp.from_xyz_string('-y, x-y, z') \n",
    "rot1 = sym1.rotation_matrix"
   ]
  },
  {
   "cell_type": "code",
   "execution_count": 90,
   "id": "criminal-action",
   "metadata": {},
   "outputs": [
    {
     "name": "stdout",
     "output_type": "stream",
     "text": [
      "La matrice de rotation :\n",
      "[[ 0. -1.  0.]\n",
      " [ 1. -1.  0.]\n",
      " [ 0.  0.  1.]]\n"
     ]
    }
   ],
   "source": [
    "print('La matrice de rotation :')\n",
    "print(rot1)"
   ]
  },
  {
   "cell_type": "code",
   "execution_count": 91,
   "id": "adapted-request",
   "metadata": {
    "scrolled": true
   },
   "outputs": [
    {
     "data": {
      "application/vnd.jupyter.widget-view+json": {
       "model_id": "fe9a2bc051d648cea3fb5f08d5b42e29",
       "version_major": 2,
       "version_minor": 0
      },
      "text/plain": [
       "JsmolView(layout=Layout(align_self='stretch', height='400px'))"
      ]
     },
     "metadata": {},
     "output_type": "display_data"
    }
   ],
   "source": [
    "view = quick_view(structure)\n",
    "display(view)\n",
    "view.script('draw symop 3 {atomno = 3}')"
   ]
  },
  {
   "cell_type": "markdown",
   "id": "tested-spiritual",
   "metadata": {},
   "source": [
    "Equation :\n",
    "\n",
    "$$\\begin{pmatrix} 0 & -1 & 0 \\\\ 1 & -1 & 0 \\\\ 0 & 0 & 1 \\end{pmatrix} \n",
    "\\begin{pmatrix} x \\\\ y \\\\ z \\end{pmatrix}\n",
    "= \\begin{pmatrix} -y \\\\ x-y \\\\ z \\end{pmatrix} $$"
   ]
  },
  {
   "cell_type": "markdown",
   "id": "chief-throw",
   "metadata": {},
   "source": [
    "# Deuxième élément de symmétrie\n",
    "Le 8ème élément de symmétrie du fichier CIF envoie chaque atome avec comme coordonées (x, y, z) sur un atome avec les coordonées (-y, -x, z).\n",
    "\n",
    "Cet élément de symmétrie est un plan miroir."
   ]
  },
  {
   "cell_type": "code",
   "execution_count": 81,
   "id": "infectious-following",
   "metadata": {},
   "outputs": [],
   "source": [
    "sym2 = SymmOp.from_xyz_string('-y, -x, z') \n",
    "rot2 = sym2.rotation_matrix"
   ]
  },
  {
   "cell_type": "code",
   "execution_count": 82,
   "id": "sunset-baker",
   "metadata": {},
   "outputs": [
    {
     "name": "stdout",
     "output_type": "stream",
     "text": [
      "La matrice de rotation :\n",
      "[[ 0. -1.  0.]\n",
      " [-1.  0.  0.]\n",
      " [ 0.  0.  1.]]\n"
     ]
    }
   ],
   "source": [
    "print('La matrice de rotation :')\n",
    "print(rot2)"
   ]
  },
  {
   "cell_type": "code",
   "execution_count": 83,
   "id": "failing-benchmark",
   "metadata": {},
   "outputs": [
    {
     "data": {
      "application/vnd.jupyter.widget-view+json": {
       "model_id": "f0a3dbf938c44c609399770bb8c01a6e",
       "version_major": 2,
       "version_minor": 0
      },
      "text/plain": [
       "JsmolView(layout=Layout(align_self='stretch', height='400px'))"
      ]
     },
     "metadata": {},
     "output_type": "display_data"
    }
   ],
   "source": [
    "view = quick_view(structure)\n",
    "display(view)\n",
    "view.script('draw symop 8 {atomno = 2}')"
   ]
  },
  {
   "cell_type": "markdown",
   "id": "naked-pendant",
   "metadata": {},
   "source": [
    "Equation :\n",
    "\n",
    "$$\\begin{pmatrix} 0 & -1 & 0 \\\\ -1 & 0 & 0 \\\\ 0 & 0 & 1 \\end{pmatrix} \n",
    "\\begin{pmatrix} x \\\\ y \\\\ z \\end{pmatrix}\n",
    "= \\begin{pmatrix} -y \\\\ -x \\\\ z \\end{pmatrix} $$"
   ]
  },
  {
   "cell_type": "markdown",
   "id": "advance-concrete",
   "metadata": {},
   "source": [
    "# Troisième élément de symmétrie\n",
    "Le 4ème élément de symmétrie du fichier CIF envoie chaque atome avec comme coordonées (x, y, z) sur un atome avec les coordonées (y, -x+y, -z).\n",
    "\n",
    "Cet élément de symmétrie est une translation suivie d'une rotation selon l'axe [1,1,1]."
   ]
  },
  {
   "cell_type": "code",
   "execution_count": 84,
   "id": "complicated-threshold",
   "metadata": {},
   "outputs": [],
   "source": [
    "sym3 = SymmOp.from_xyz_string('y, -x+y, -z') \n",
    "rot3 = sym3.rotation_matrix"
   ]
  },
  {
   "cell_type": "code",
   "execution_count": 85,
   "id": "western-vegetation",
   "metadata": {},
   "outputs": [
    {
     "name": "stdout",
     "output_type": "stream",
     "text": [
      "La matrice de rotation :\n",
      "[[ 0.  1.  0.]\n",
      " [-1.  1.  0.]\n",
      " [ 0.  0. -1.]]\n"
     ]
    }
   ],
   "source": [
    "print('La matrice de rotation :')\n",
    "print(rot3)"
   ]
  },
  {
   "cell_type": "code",
   "execution_count": 86,
   "id": "acting-activation",
   "metadata": {},
   "outputs": [
    {
     "data": {
      "application/vnd.jupyter.widget-view+json": {
       "model_id": "9f552d4385284e50b3b7f71b61005cb2",
       "version_major": 2,
       "version_minor": 0
      },
      "text/plain": [
       "JsmolView(layout=Layout(align_self='stretch', height='400px'))"
      ]
     },
     "metadata": {},
     "output_type": "display_data"
    }
   ],
   "source": [
    "view = quick_view(structure)\n",
    "display(view)\n",
    "view.script('draw symop 4 {atomno = 2}')"
   ]
  },
  {
   "cell_type": "markdown",
   "id": "suspended-release",
   "metadata": {},
   "source": [
    "Equation :\n",
    "\n",
    "$$\\begin{pmatrix} 0 & 1 & 0 \\\\ -1 & 1 & 0 \\\\ 0 & 0 & -1 \\end{pmatrix} \n",
    "\\begin{pmatrix} x \\\\ y \\\\ z \\end{pmatrix}\n",
    "= \\begin{pmatrix} y \\\\ -x+y \\\\ -z \\end{pmatrix} $$"
   ]
  },
  {
   "cell_type": "code",
   "execution_count": null,
   "id": "united-sequence",
   "metadata": {},
   "outputs": [],
   "source": []
  }
 ],
 "metadata": {
  "kernelspec": {
   "display_name": "Python 3",
   "language": "python",
   "name": "python3"
  },
  "language_info": {
   "codemirror_mode": {
    "name": "ipython",
    "version": 3
   },
   "file_extension": ".py",
   "mimetype": "text/x-python",
   "name": "python",
   "nbconvert_exporter": "python",
   "pygments_lexer": "ipython3",
   "version": "3.6.8"
  }
 },
 "nbformat": 4,
 "nbformat_minor": 5
}
