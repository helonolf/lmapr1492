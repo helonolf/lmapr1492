{
 "cells": [
  {
   "cell_type": "markdown",
   "id": "subject-inspector",
   "metadata": {},
   "source": [
    "# Tâche 5"
   ]
  },
  {
   "cell_type": "markdown",
   "id": "fourth-protocol",
   "metadata": {},
   "source": [
    "Matériau : MgSiN2 (mp-1017514)"
   ]
  },
  {
   "cell_type": "code",
   "execution_count": 28,
   "id": "radical-stream",
   "metadata": {},
   "outputs": [],
   "source": [
    "from pymatgen.ext.matproj import MPRester\n",
    "from pymatgen.symmetry.analyzer import SpacegroupAnalyzer\n",
    "\n",
    "with MPRester(\"ThjXyeGFsZiOhMODL\") as m:\n",
    "    structure = m.get_structure_by_material_id(\"mp-1017514\")"
   ]
  },
  {
   "cell_type": "code",
   "execution_count": 29,
   "id": "expired-methodology",
   "metadata": {},
   "outputs": [],
   "source": [
    "analyzer = SpacegroupAnalyzer(structure)"
   ]
  },
  {
   "cell_type": "markdown",
   "id": "convinced-actress",
   "metadata": {},
   "source": [
    "# Réseaux direct "
   ]
  },
  {
   "cell_type": "code",
   "execution_count": 46,
   "id": "improved-charge",
   "metadata": {},
   "outputs": [
    {
     "name": "stdout",
     "output_type": "stream",
     "text": [
      "Vecteurs de bases : \n",
      "4.965017 -1.425763 0.000000\n",
      "4.965017 1.425763 0.000000\n",
      "4.555593 0.000000 2.435317\n",
      " \n",
      "Les longueurs des vecteurs de bases (en Å) : \n",
      "a =  5.165674587356234\n",
      "b =  5.165674587356234\n",
      "c =  5.165674832210986\n",
      " \n",
      "Les angles des vecteurs de bases : \n",
      "alpha =  32.04407478936546\n",
      "beta =  32.04407478936546\n",
      "gamma =  32.044082639709266\n"
     ]
    }
   ],
   "source": [
    "print(\"Vecteurs de bases : \")\n",
    "print(structure.lattice)\n",
    "print(\" \")\n",
    "\n",
    "abc = structure.lattice.abc\n",
    "print(\"Les longueurs des vecteurs de bases (en Å) : \")\n",
    "print(\"a = \", abc[0])\n",
    "print(\"b = \", abc[1])\n",
    "print(\"c = \", abc[2])\n",
    "print(\" \")\n",
    "\n",
    "angles = structure.lattice.angles\n",
    "print(\"Les angles des vecteurs de bases : \")\n",
    "print(\"alpha = \", angles[0])\n",
    "print(\"beta = \", angles[1])\n",
    "print(\"gamma = \", angles[2])"
   ]
  },
  {
   "cell_type": "markdown",
   "id": "angry-military",
   "metadata": {},
   "source": [
    "# Réseaux réciproque "
   ]
  },
  {
   "cell_type": "code",
   "execution_count": 47,
   "id": "secure-identity",
   "metadata": {},
   "outputs": [
    {
     "name": "stdout",
     "output_type": "stream",
     "text": [
      "Vecteurs de bases : \n",
      "0.632746 -2.203447 -1.183637\n",
      "0.632746 2.203447 -1.183637\n",
      "0.000000 0.000000 2.580028\n",
      " \n",
      "Les longueurs des vecteurs de bases (en Å) : \n",
      "a =  2.5800272529834767\n",
      "b =  2.5800272529834767\n",
      "c =  2.580027695441532\n",
      " \n",
      "Les angles des vecteurs de bases : \n",
      "alpha =  117.30771488269356\n",
      "beta =  117.30771488269356\n",
      "gamma =  117.30769059161608\n"
     ]
    }
   ],
   "source": [
    "print(\"Vecteurs de bases : \")\n",
    "print(structure.lattice.reciprocal_lattice)\n",
    "print(\" \")\n",
    "\n",
    "abc = structure.lattice.reciprocal_lattice.abc\n",
    "print(\"Les longueurs des vecteurs de bases (en Å) : \")\n",
    "print(\"a = \", abc[0])\n",
    "print(\"b = \", abc[1])\n",
    "print(\"c = \", abc[2])\n",
    "print(\" \")\n",
    "\n",
    "angles = structure.lattice.reciprocal_lattice.angles\n",
    "print(\"Les angles des vecteurs de bases : \")\n",
    "print(\"alpha = \", angles[0])\n",
    "print(\"beta = \", angles[1])\n",
    "print(\"gamma = \", angles[2])"
   ]
  },
  {
   "cell_type": "markdown",
   "id": "received-publisher",
   "metadata": {},
   "source": [
    "# Type de maille"
   ]
  },
  {
   "cell_type": "code",
   "execution_count": 32,
   "id": "compound-boards",
   "metadata": {},
   "outputs": [
    {
     "name": "stdout",
     "output_type": "stream",
     "text": [
      "Type de maille : rhombohedral\n"
     ]
    }
   ],
   "source": [
    "print(\"Type de maille : \" + analyzer.get_lattice_type())"
   ]
  },
  {
   "cell_type": "markdown",
   "id": "abandoned-blast",
   "metadata": {},
   "source": [
    "# Système cristallin"
   ]
  },
  {
   "cell_type": "code",
   "execution_count": 33,
   "id": "sustained-queensland",
   "metadata": {},
   "outputs": [
    {
     "name": "stdout",
     "output_type": "stream",
     "text": [
      "Système cristallin : trigonal\n"
     ]
    }
   ],
   "source": [
    "print(\"Système cristallin : \" + analyzer.get_crystal_system())"
   ]
  },
  {
   "cell_type": "markdown",
   "id": "equal-quick",
   "metadata": {},
   "source": [
    "# Groupe ponctuel"
   ]
  },
  {
   "cell_type": "code",
   "execution_count": 34,
   "id": "auburn-daily",
   "metadata": {},
   "outputs": [
    {
     "name": "stdout",
     "output_type": "stream",
     "text": [
      "Groupe ponctuel : -3m\n"
     ]
    }
   ],
   "source": [
    "print(\"Groupe ponctuel : \" + analyzer.get_point_group_symbol())"
   ]
  }
 ],
 "metadata": {
  "kernelspec": {
   "display_name": "Python 3",
   "language": "python",
   "name": "python3"
  },
  "language_info": {
   "codemirror_mode": {
    "name": "ipython",
    "version": 3
   },
   "file_extension": ".py",
   "mimetype": "text/x-python",
   "name": "python",
   "nbconvert_exporter": "python",
   "pygments_lexer": "ipython3",
   "version": "3.6.8"
  }
 },
 "nbformat": 4,
 "nbformat_minor": 5
}
